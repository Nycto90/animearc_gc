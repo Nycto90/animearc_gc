{
 "cells": [
  {
   "cell_type": "code",
   "execution_count": null,
   "metadata": {},
   "outputs": [],
   "source": [
    "from jikanpy import Jikan\n",
    "import json\n",
    "import time\n",
    "import pandas as pd\n",
    "\n",
    "# Initialize Jikan with the v4 base URL\n",
    "jikan = Jikan(selected_base='https://api.jikan.moe/v4')"
   ]
  },
  {
   "cell_type": "code",
   "execution_count": null,
   "metadata": {},
   "outputs": [],
   "source": [
    "try:\n",
    "    for page in range(1, 37):\n",
    "        response = jikan.search('anime', '', page=page, parameters={\n",
    "            'start_date': '2014-01-01',\n",
    "            'end_date': '2023-12-31',\n",
    "            'type': 'tv',\n",
    "            'min_score': '7'\n",
    "        })\n",
    "        print(response)  # Print the raw response to understand what's being returned\n",
    "        \n",
    "        # Rate limiting - Wait for 1 second before making the next request\n",
    "        time.sleep(1)\n",
    "except Exception as e:\n",
    "    print(f\"An error occurred: {e}\")"
   ]
  },
  {
   "cell_type": "code",
   "execution_count": null,
   "metadata": {},
   "outputs": [],
   "source": [
    "response.keys()"
   ]
  },
  {
   "cell_type": "code",
   "execution_count": null,
   "metadata": {},
   "outputs": [],
   "source": [
    "response['data']"
   ]
  },
  {
   "cell_type": "code",
   "execution_count": null,
   "metadata": {},
   "outputs": [],
   "source": [
    "print(json.dumps(response['data'], indent=4))"
   ]
  }
 ],
 "metadata": {
  "kernelspec": {
   "display_name": "animearc",
   "language": "python",
   "name": "python3"
  },
  "language_info": {
   "codemirror_mode": {
    "name": "ipython",
    "version": 3
   },
   "file_extension": ".py",
   "mimetype": "text/x-python",
   "name": "python",
   "nbconvert_exporter": "python",
   "pygments_lexer": "ipython3",
   "version": "3.12.4"
  }
 },
 "nbformat": 4,
 "nbformat_minor": 2
}
