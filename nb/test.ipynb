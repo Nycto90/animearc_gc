{
 "cells": [
  {
   "cell_type": "code",
   "execution_count": 8,
   "metadata": {},
   "outputs": [],
   "source": [
    "from jikanpy import Jikan\n",
    "import pandas as pd\n",
    "import time\n",
    "import os \n",
    "\n",
    "\n",
    "jikan = Jikan()\n",
    "\n",
    "cb_bp = jikan.anime(1)\n",
    "\n",
    "# if 'data' in cb_bp:\n",
    "#     print(cb_bp['data'].keys())\n",
    "# print(f\"Title: {cb_bp['title']}, Source: {cb_bp['source']}\")"
   ]
  }
 ],
 "metadata": {
  "kernelspec": {
   "display_name": "animearc",
   "language": "python",
   "name": "python3"
  },
  "language_info": {
   "codemirror_mode": {
    "name": "ipython",
    "version": 3
   },
   "file_extension": ".py",
   "mimetype": "text/x-python",
   "name": "python",
   "nbconvert_exporter": "python",
   "pygments_lexer": "ipython3",
   "version": "3.12.4"
  }
 },
 "nbformat": 4,
 "nbformat_minor": 2
}
