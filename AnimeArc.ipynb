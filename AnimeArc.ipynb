{
 "cells": [
  {
   "cell_type": "code",
   "execution_count": null,
   "metadata": {},
   "outputs": [],
   "source": [
    "from jikanpy import Jikan\n",
    "import json\n",
    "import time\n",
    "import pandas as pd\n",
    "import os\n",
    "import matplotlib.pyplot as plt\n",
    "import seaborn as sns\n",
    "\n",
    "# Initialize Jikan with the v4 base URL\n",
    "jikan = Jikan(selected_base='https://api.jikan.moe/v4')"
   ]
  },
  {
   "cell_type": "code",
   "execution_count": null,
   "metadata": {},
   "outputs": [],
   "source": [
    "jikan = Jikan()\n",
    "\n",
    "# Placeholder for the extracted data\n",
    "extracted_data = []\n",
    "\n",
    "# Define the year ranges you want to fetch data for\n",
    "year_ranges = [(1917,1989), (1990, 1995), (1996, 2000), (2001, 2005), (2006, 2010), (2011, 2015), (2016, 2020), (2021, 2024)]\n",
    "\n",
    "# Function to fetch and process anime data within a given year range\n",
    "def fetch_anime_data(start_year, end_year):\n",
    "    page = 1\n",
    "    while True:\n",
    "        try:\n",
    "            # Fetch data from the API\n",
    "            response = jikan.search('anime', '', page=page, parameters={\n",
    "                'start_date': f'{start_year}-01-01',\n",
    "                'end_date': f'{end_year}-12-31',\n",
    "                'type': 'tv',\n",
    "            })\n",
    "            \n",
    "            # Process each anime in the current page's response\n",
    "            for anime in response['data']:\n",
    "                mal_id = anime.get('mal_id')\n",
    "                score = anime.get('score')\n",
    "                rank = anime.get('rank')\n",
    "                popularity = anime.get('popularity')\n",
    "                season = anime.get('season')\n",
    "                year = anime.get('year')\n",
    "                \n",
    "                # Extracting titles\n",
    "                title_default = None\n",
    "                title_japanese = None\n",
    "\n",
    "                for title_entry in anime.get('titles', []):\n",
    "                    if title_entry['type'] == 'Default':\n",
    "                        title_default = title_entry['title']\n",
    "                    elif title_entry['type'] == 'Japanese':\n",
    "                        title_japanese = title_entry['title']\n",
    "\n",
    "                # Extract all genre names as a comma-separated string\n",
    "                genres = ', '.join([genre['name'] for genre in anime.get('genres', [])])\n",
    "                \n",
    "                # Extract all demographic names as a comma-separated string\n",
    "                demographics = ', '.join([demographic['name'] for demographic in anime.get('demographics', [])])\n",
    "                \n",
    "                # Append the extracted information as a tuple to the list\n",
    "                extracted_data.append((mal_id, title_default, title_japanese, score, rank, popularity, season, year, demographics, genres))\n",
    "\n",
    "            \n",
    "            # Check if there's another page\n",
    "            if not response['pagination']['has_next_page']:\n",
    "                break\n",
    "            \n",
    "            # Move to the next page\n",
    "            page += 1\n",
    "            \n",
    "            # Respect the rate limit\n",
    "            time.sleep(1.2)  # Slightly more than 1 second to ensure we're under the limit\n",
    "            \n",
    "        except Exception as e:\n",
    "            print(f\"An error occurred: {e}\")\n",
    "            break"
   ]
  },
  {
   "cell_type": "code",
   "execution_count": null,
   "metadata": {},
   "outputs": [],
   "source": [
    "# Fetch data for each defined year range\n",
    "for start_year, end_year in year_ranges:\n",
    "    print(f\"Fetching data from {start_year} to {end_year}...\")\n",
    "    fetch_anime_data(start_year, end_year)\n",
    "\n",
    "# Convert the list of tuples to a pandas DataFrame\n",
    "df = pd.DataFrame(extracted_data, columns=[\n",
    "    'mal_id', 'title_default', 'title_japanese', 'score', 'rank', 'popularity', 'season', 'year','demographics', 'genres'\n",
    "])"
   ]
  },
  {
   "cell_type": "code",
   "execution_count": null,
   "metadata": {},
   "outputs": [],
   "source": [
    "df"
   ]
  },
  {
   "cell_type": "code",
   "execution_count": null,
   "metadata": {},
   "outputs": [],
   "source": [
    "\n",
    "\n",
    "# Get the current working directory (which should be your project root)\n",
    "script_dir = os.path.dirname(os.path.realpath('AnimeArc.ipynb'))\n",
    "\n",
    "# Construct the path to the 'data' directory relative to the project root\n",
    "data_dir = os.path.join(script_dir, '..', 'data')\n",
    "\n",
    "# Ensure the data directory exists\n",
    "os.makedirs(data_dir, exist_ok=True)\n",
    "\n",
    "# Define the file path for saving your DataFrame with UTF-8 encoding\n",
    "file_path = os.path.join(data_dir, 'anime_data.xlsx')\n",
    "file_path2 = os.path.join(data_dir, 'anime_data.csv')\n",
    "\n",
    "# Save your DataFrame to the file\n",
    "df.to_excel(file_path, index=False, engine='openpyxl')\n",
    "df.to_csv(file_path2, index=False, encoding='utf-8-sig')\n",
    "\n",
    "print(f\"Data saved to {file_path} & {file_path2}.\")\n"
   ]
  },
  {
   "cell_type": "code",
   "execution_count": null,
   "metadata": {},
   "outputs": [],
   "source": [
    "print(df.info())\n",
    "print(df.describe())\n"
   ]
  },
  {
   "cell_type": "code",
   "execution_count": null,
   "metadata": {},
   "outputs": [],
   "source": [
    "missing_data_report = df.isnull().sum()\n",
    "print(missing_data_report)"
   ]
  },
  {
   "cell_type": "code",
   "execution_count": null,
   "metadata": {},
   "outputs": [],
   "source": [
    "df_with_score = df[df['score'].notna()]\n",
    "df_with_score.info()"
   ]
  },
  {
   "cell_type": "code",
   "execution_count": null,
   "metadata": {},
   "outputs": [],
   "source": [
    "\n",
    "\n",
    "# Plotting the histogram of scores\n",
    "plt.figure(figsize=(10, 6))\n",
    "sns.histplot(df_with_score['score'], bins=20, kde=True)\n",
    "plt.title('Distribution of Anime Scores')\n",
    "plt.xlabel('Score')\n",
    "plt.ylabel('Frequency')\n",
    "plt.show()\n",
    "\n",
    "# Filter out anime without year\n",
    "df_with_score_year = df_with_score[df_with_score['year'].notna()]\n",
    "\n",
    "df_with_score_year = df_with_score_year.copy()\n",
    "\n",
    "# Convert year to decade\n",
    "df_with_score_year['decade'] = ((df_with_score_year['year'] // 10) * 10).astype(int)\n",
    "\n",
    "df_with_score_year['dec_label'] = df_with_score_year['decade'].astype(str) + 's'\n",
    "\n",
    "# Plotting the score distribution over the years using a box plot\n",
    "plt.figure(figsize=(14, 8))\n",
    "sns.boxplot(x='dec_label', y='score', data=df_with_score_year)\n",
    "plt.title('Anime Score Distribution Over the Decades')\n",
    "plt.xlabel('Decade')\n",
    "plt.ylabel('Score')\n",
    "plt.xticks(rotation=45)\n",
    "plt.show()"
   ]
  },
  {
   "cell_type": "markdown",
   "metadata": {},
   "source": [
    "### Analysis of the Distribution of Anime Scores\n",
    "\n",
    "#### 1. **Score Distribution Histogram (First Graph):**\n",
    "   - **Normal Distribution:** The histogram of anime scores appears to follow a roughly normal distribution, with the majority of scores centered around 6 to 8. This suggests that most animes tend to receive moderate to good ratings.\n",
    "   - **Peak Scores:** The most frequent scores fall between 6.5 and 7.5, indicating that the average anime tends to receive a decent score, neither too high nor too low.\n",
    "   - **Long Tail:** There is a noticeable tail towards both lower and higher scores. This indicates the presence of both underperforming animes (scores below 6) and highly rated animes (scores above 8), but these are less common compared to those that score in the middle range.\n",
    "\n",
    "#### 2. **Anime Score Distribution Over the Decades (Second Graph):**\n",
    "   - **1970s to 1980s:**\n",
    "     - **Score Stability:** The median scores in these decades are relatively consistent, hovering around 6 to 7.\n",
    "     - **Lower Range of Scores:** The spread of scores in these decades is tighter, with fewer low-scoring animes. This could indicate that early anime productions were more consistent in quality.\n",
    "   - **1990s:**\n",
    "     - **Wider Distribution:** The scores start to show more variability, with a broader range from about 5 to 8.5. This suggests increasing diversity in anime quality during this period, with some productions starting to stand out more.\n",
    "     - **Higher Upper Quartile:** The top 25% of animes from this decade scored noticeably higher, which might reflect the rise of iconic and influential animes during this period.\n",
    "   - **2000s to 2020s:**\n",
    "     - **Increased Variability:** The score distribution continues to widen, especially in the lower scores. This could indicate a greater variety of anime content, including niche genres or lower-budget productions that don't always score well.\n",
    "     - **Higher Median Scores in Recent Decades:** Despite the variability, the median scores in the 2000s and 2010s are higher than in previous decades. This could suggest an improvement in overall anime quality or a change in audience expectations and scoring behavior.\n",
    "     - **More Outliers:** The recent decades show more outliers, particularly in the lower end, indicating a few very low-scoring animes. This could be due to increased anime production, leading to more variability in quality.\n",
    "\n",
    "### Key Insights:\n",
    "   - **Improvement Over Time:** The median score has increased slightly in recent decades, indicating potential improvements in anime quality or changes in scoring criteria.\n",
    "   - **Diversity in Quality:** The increased spread of scores, especially in the 2000s and 2010s, shows that while there are highly rated animes, there is also a significant number of lower-rated ones, reflecting greater diversity in production.\n",
    "   - **Consistency in Early Years:** The 1970s and 1980s show less variability in scores, possibly indicating more consistent production quality or a smaller number of releases.\n",
    "   - **Impact of Iconic Animes:** The 1990s show a notable increase in higher scores, possibly due to the release of several influential animes that shaped the industry.\n"
   ]
  },
  {
   "cell_type": "code",
   "execution_count": null,
   "metadata": {},
   "outputs": [],
   "source": [
    "print(df['rank'].min())\n",
    "print(df['rank'].max())\n",
    "print(df['score'].min())\n",
    "print(df['score'].max())\n",
    "print(df['popularity'].min())\n",
    "print(df['popularity'].max())"
   ]
  },
  {
   "cell_type": "code",
   "execution_count": null,
   "metadata": {},
   "outputs": [],
   "source": [
    "pop_10 = df.nsmallest(10, 'popularity')\n",
    "pop_10"
   ]
  },
  {
   "cell_type": "code",
   "execution_count": null,
   "metadata": {},
   "outputs": [],
   "source": [
    "rank_10 = df.nsmallest(10, 'rank')\n",
    "rank_10"
   ]
  },
  {
   "cell_type": "code",
   "execution_count": null,
   "metadata": {},
   "outputs": [],
   "source": [
    "score_10 = df.nlargest(10, 'score')\n",
    "score_10"
   ]
  }
 ],
 "metadata": {
  "kernelspec": {
   "display_name": "animearc",
   "language": "python",
   "name": "python3"
  },
  "language_info": {
   "codemirror_mode": {
    "name": "ipython",
    "version": 3
   },
   "file_extension": ".py",
   "mimetype": "text/x-python",
   "name": "python",
   "nbconvert_exporter": "python",
   "pygments_lexer": "ipython3",
   "version": "3.12.4"
  }
 },
 "nbformat": 4,
 "nbformat_minor": 2
}
